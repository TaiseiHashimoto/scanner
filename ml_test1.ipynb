{
 "cells": [
  {
   "cell_type": "code",
   "execution_count": 1,
   "metadata": {},
   "outputs": [],
   "source": [
    "import numpy as np\n",
    "import pandas as pd\n",
    "import matplotlib.pyplot as plt\n",
    "import os"
   ]
  },
  {
   "cell_type": "code",
   "execution_count": 2,
   "metadata": {},
   "outputs": [],
   "source": [
    "folder_names = os.listdir('data')"
   ]
  },
  {
   "cell_type": "code",
   "execution_count": 3,
   "metadata": {},
   "outputs": [],
   "source": [
    "colnames = ['id', 'posnum', 'seglen_hor', 'seglen_ver', 'segdist_hor', 'segdist_ver', 'crossdeg', 'segdeg_hor', 'segdeg_ver', 'dist_hor', 'dist_ver']"
   ]
  },
  {
   "cell_type": "code",
   "execution_count": 4,
   "metadata": {},
   "outputs": [],
   "source": [
    "def collect_data(folder_names):\n",
    "    data = []\n",
    "    labels = []\n",
    "    metadata = []  # img_id, posnum\n",
    "    for img_id, name in enumerate(folder_names):\n",
    "        if not os.path.exists('data/' + name + '/ml_data1.csv'): continue\n",
    "        d = pd.read_csv('data/' + name + '/ml_data1.csv', names=colnames)\n",
    "        a = pd.read_csv('data/' + name + '/ans.txt', header=None).values.ravel()\n",
    "        # no answer => \"-1\"\n",
    "        assert len(a) == 4, f\"len(a) = {len(a)} (!= 4)\"\n",
    "        for row in d.values:\n",
    "            label = 1 if row[0] in a else 0\n",
    "            labels.append(label)\n",
    "            metadata.append((img_id, row[1]))\n",
    "            data.append(row[2:])\n",
    "            \n",
    "            for i in range(4):    # for debug\n",
    "                if row[0] == a[i]:\n",
    "                    assert row[1] == i, \"corrupted in posnum\"\n",
    "    return np.array(data), np.array(labels), np.array(metadata)"
   ]
  },
  {
   "cell_type": "code",
   "execution_count": 5,
   "metadata": {},
   "outputs": [],
   "source": [
    "data, labels, metadata = collect_data(folder_names)"
   ]
  },
  {
   "cell_type": "code",
   "execution_count": 6,
   "metadata": {},
   "outputs": [
    {
     "name": "stdout",
     "output_type": "stream",
     "text": [
      "17454 221\n"
     ]
    }
   ],
   "source": [
    "print(len(labels), sum(labels))"
   ]
  },
  {
   "cell_type": "code",
   "execution_count": 7,
   "metadata": {},
   "outputs": [
    {
     "data": {
      "text/plain": [
       "{'seglen_hor': 0,\n",
       " 'seglen_ver': 1,\n",
       " 'segdist_hor': 2,\n",
       " 'segdist_ver': 3,\n",
       " 'crossdeg': 4,\n",
       " 'segdeg_hor': 5,\n",
       " 'segdeg_ver': 6,\n",
       " 'dist_hor': 7,\n",
       " 'dist_ver': 8}"
      ]
     },
     "execution_count": 7,
     "metadata": {},
     "output_type": "execute_result"
    }
   ],
   "source": [
    "feature_dict = {colnames[i+2]: i for i in range(len(colnames)-2)}\n",
    "feature_dict"
   ]
  },
  {
   "cell_type": "code",
   "execution_count": 8,
   "metadata": {},
   "outputs": [
    {
     "data": {
      "image/png": "[encoded data removed]",
      "text/plain": [
       "<Figure size 432x288 with 2 Axes>"
      ]
     },
     "metadata": {
      "needs_background": "light"
     },
     "output_type": "display_data"
    }
   ],
   "source": [
    "plt.subplot(1, 2, 1)\n",
    "plt.hist(data[:, feature_dict['seglen_hor']])\n",
    "plt.subplot(1, 2, 2)\n",
    "plt.hist(data[:, feature_dict['seglen_ver']])\n",
    "plt.show()"
   ]
  },
  {
   "cell_type": "code",
   "execution_count": 9,
   "metadata": {},
   "outputs": [
    {
     "data": {
      "image/png": "[encoded data removed]",
      "text/plain": [
       "<Figure size 432x288 with 2 Axes>"
      ]
     },
     "metadata": {
      "needs_background": "light"
     },
     "output_type": "display_data"
    }
   ],
   "source": [
    "plt.subplot(1, 2, 1)\n",
    "plt.hist(data[:, feature_dict['segdist_hor']])\n",
    "plt.subplot(1, 2, 2)\n",
    "plt.hist(data[:, feature_dict['segdist_ver']])\n",
    "plt.show()"
   ]
  },
  {
   "cell_type": "code",
   "execution_count": 10,
   "metadata": {},
   "outputs": [
    {
     "data": {
      "image/png": "[encoded data removed]",
      "text/plain": [
       "<Figure size 432x288 with 2 Axes>"
      ]
     },
     "metadata": {
      "needs_background": "light"
     },
     "output_type": "display_data"
    }
   ],
   "source": [
    "plt.subplot(1, 2, 1)\n",
    "plt.hist(data[:, feature_dict['dist_hor']])\n",
    "plt.subplot(1, 2, 2)\n",
    "plt.hist(data[:, feature_dict['dist_ver']])\n",
    "plt.show()"
   ]
  },
  {
   "cell_type": "code",
   "execution_count": 12,
   "metadata": {},
   "outputs": [
    {
     "data": {
      "image/png": "[encoded data removed]",
      "text/plain": [
       "<Figure size 432x288 with 2 Axes>"
      ]
     },
     "metadata": {
      "needs_background": "light"
     },
     "output_type": "display_data"
    }
   ],
   "source": [
    "plt.subplot(1, 2, 1)\n",
    "plt.hist(data[:, feature_dict['segdeg_hor']] * 180 / np.pi)\n",
    "plt.subplot(1, 2, 2)\n",
    "plt.hist(data[:, feature_dict['segdeg_ver']] * 180 / np.pi)\n",
    "plt.show()"
   ]
  },
  {
   "cell_type": "code",
   "execution_count": 24,
   "metadata": {},
   "outputs": [],
   "source": [
    "import random\n",
    "img_indice = range(len(folder_names))\n",
    "img_indice_train = random.sample(img_indice, int(len(img_indice) * 0.7))\n",
    "data_train = []\n",
    "data_test = []\n",
    "labels_train = []\n",
    "labels_test = []\n",
    "metadata_train = []\n",
    "metadata_test = []\n",
    "# split data (don't split image)\n",
    "for i in range(len(data)):\n",
    "    if metadata[i][0] in img_indice_train:\n",
    "        data_train.append(data[i])\n",
    "        labels_train.append(labels[i])\n",
    "        metadata_train.append(metadata[i])\n",
    "    else:\n",
    "        data_test.append(data[i])\n",
    "        labels_test.append(labels[i])\n",
    "        metadata_test.append(metadata[i])\n",
    "data_train = np.array(data_train)\n",
    "data_test = np.array(data_test)\n",
    "labels_train = np.array(labels_train)\n",
    "labels_test = np.array(labels_test)\n",
    "metadata_train = np.array(metadata_train)\n",
    "metadata_test = np.array(metadata_test)"
   ]
  },
  {
   "cell_type": "code",
   "execution_count": 25,
   "metadata": {},
   "outputs": [],
   "source": [
    "from sklearn.preprocessing import StandardScaler\n",
    "stdsc = StandardScaler()\n",
    "data_train = stdsc.fit_transform(data_train)\n",
    "data_test = stdsc.transform(data_test)"
   ]
  },
  {
   "cell_type": "code",
   "execution_count": 26,
   "metadata": {},
   "outputs": [],
   "source": [
    "from sklearn.decomposition import PCA\n",
    "pca = PCA()\n",
    "pca.fit(data_train)\n",
    "transformed_train = pca.fit_transform(data_train)\n",
    "transformed_test = pca.transform(data_test)"
   ]
  },
  {
   "cell_type": "code",
   "execution_count": 27,
   "metadata": {},
   "outputs": [
    {
     "data": {
      "image/png": "[encoded data removed]",
      "text/plain": [
       "<Figure size 432x288 with 2 Axes>"
      ]
     },
     "metadata": {},
     "output_type": "display_data"
    }
   ],
   "source": [
    "plt.subplot(1, 2, 1)\n",
    "plt.scatter(transformed_train[labels_train==0][:,0], transformed_train[labels_train==0][:,1], c='blue')\n",
    "plt.scatter(transformed_train[labels_train==1][:,0], transformed_train[labels_train==1][:,1], c='red')\n",
    "plt.subplot(1, 2, 2)\n",
    "plt.scatter(transformed_test[labels_test==0][:,0], transformed_test[labels_test==0][:,1], c='blue')\n",
    "plt.scatter(transformed_test[labels_test==1][:,0], transformed_test[labels_test==1][:,1], c='red')\n",
    "plt.show()"
   ]
  },
  {
   "cell_type": "code",
   "execution_count": 28,
   "metadata": {},
   "outputs": [
    {
     "name": "stdout",
     "output_type": "stream",
     "text": [
      "56 39\n"
     ]
    }
   ],
   "source": [
    "print(len(img_indice), len(img_indice_train))"
   ]
  },
  {
   "cell_type": "code",
   "execution_count": 29,
   "metadata": {},
   "outputs": [],
   "source": [
    "def rank_accuracy(true_labels, pred_vals, metadata, n_tol=3):\n",
    "    positive_vals = pred_vals\n",
    "    if pred_vals.ndim == 2:  # case of predict_proba\n",
    "        positive_vals = pred_vals[:, 1]\n",
    "    indice = np.argsort(positive_vals)[::-1]  # descending order\n",
    "    err_count = {}\n",
    "    errors = []\n",
    "    corrects = []\n",
    "    for idx in indice:\n",
    "        md = tuple(metadata[idx])\n",
    "        if not md in err_count:\n",
    "            err_count[md] = 0\n",
    "        if md in corrects or md in errors:  # already decided\n",
    "            continue\n",
    "        if true_labels[idx] == 1:  # correct classification\n",
    "            corrects.append(md)\n",
    "        else:\n",
    "            err_count[md] += 1  # wrong classfication\n",
    "            if err_count[md] >= n_tol:\n",
    "                errors.append(md)\n",
    "    \n",
    "    return len(corrects) / len(err_count)"
   ]
  },
  {
   "cell_type": "markdown",
   "metadata": {},
   "source": [
    "## simple SVM"
   ]
  },
  {
   "cell_type": "code",
   "execution_count": 32,
   "metadata": {},
   "outputs": [
    {
     "data": {
      "text/plain": [
       "SVC(C=1.0, cache_size=200, class_weight=None, coef0=0.0,\n",
       "  decision_function_shape='ovr', degree=3, gamma='auto', kernel='rbf',\n",
       "  max_iter=-1, probability=False, random_state=None, shrinking=True,\n",
       "  tol=0.001, verbose=False)"
      ]
     },
     "execution_count": 32,
     "metadata": {},
     "output_type": "execute_result"
    }
   ],
   "source": [
    "from sklearn.svm import SVC\n",
    "from sklearn.metrics import confusion_matrix\n",
    "svm = SVC(gamma='auto')\n",
    "svm.fit(data_train, labels_train)"
   ]
  },
  {
   "cell_type": "code",
   "execution_count": 33,
   "metadata": {},
   "outputs": [
    {
     "name": "stdout",
     "output_type": "stream",
     "text": [
      "0.9913079470198676\n",
      "0.9893373952779894\n",
      "[[11932    16]\n",
      " [   89    43]]\n",
      "[[5176   11]\n",
      " [  45   20]]\n",
      "0.8636363636363636\n",
      "0.6764705882352942\n"
     ]
    }
   ],
   "source": [
    "print(svm.score(data_train, labels_train))\n",
    "print(svm.score(data_test, labels_test))\n",
    "print(confusion_matrix(labels_train, svm.predict(data_train)))\n",
    "print(confusion_matrix(labels_test, svm.predict(data_test)))\n",
    "print(rank_accuracy(labels_train, svm.decision_function(data_train), metadata_train, n_tol=2))\n",
    "print(rank_accuracy(labels_test, svm.decision_function(data_test), metadata_test, n_tol=2))"
   ]
  },
  {
   "cell_type": "markdown",
   "metadata": {},
   "source": [
    "## SVM with random over sampling"
   ]
  },
  {
   "cell_type": "code",
   "execution_count": 167,
   "metadata": {},
   "outputs": [
    {
     "name": "stdout",
     "output_type": "stream",
     "text": [
      "[(0, 10647), (1, 5323)]\n"
     ]
    },
    {
     "data": {
      "text/plain": [
       "SVC(C=1.0, cache_size=200, class_weight=None, coef0=0.0,\n",
       "  decision_function_shape='ovr', degree=3, gamma='auto', kernel='rbf',\n",
       "  max_iter=-1, probability=False, random_state=None, shrinking=True,\n",
       "  tol=0.001, verbose=False)"
      ]
     },
     "execution_count": 167,
     "metadata": {},
     "output_type": "execute_result"
    }
   ],
   "source": [
    "from imblearn.over_sampling import RandomOverSampler\n",
    "from collections import Counter\n",
    "ros = RandomOverSampler(0.5)\n",
    "data_ros, labels_ros = ros.fit_resample(data_train, labels_train)\n",
    "print(sorted(Counter(labels_ros).items()))\n",
    "\n",
    "svm_ros = SVC(gamma='auto')\n",
    "svm_ros.fit(data_ros, labels_ros)"
   ]
  },
  {
   "cell_type": "code",
   "execution_count": 168,
   "metadata": {},
   "outputs": [
    {
     "name": "stdout",
     "output_type": "stream",
     "text": [
      "0.9677090099285516\n",
      "0.9492600422832981\n",
      "[[10300   347]\n",
      " [    1   129]]\n",
      "[[4434  237]\n",
      " [   3   56]]\n",
      "0.9393939393939394\n",
      "0.8333333333333334\n"
     ]
    }
   ],
   "source": [
    "print(svm_ros.score(data_train, labels_train))\n",
    "print(svm_ros.score(data_test, labels_test))\n",
    "print(confusion_matrix(labels_train, svm_ros.predict(data_train)))\n",
    "print(confusion_matrix(labels_test, svm_ros.predict(data_test)))\n",
    "print(rank_accuracy(labels_train, svm_ros.decision_function(data_train), metadata_train, n_tol=2))\n",
    "print(rank_accuracy(labels_test, svm_ros.decision_function(data_test), metadata_test, n_tol=2))"
   ]
  },
  {
   "cell_type": "markdown",
   "metadata": {},
   "source": [
    "## SVM with SMOTE"
   ]
  },
  {
   "cell_type": "code",
   "execution_count": 171,
   "metadata": {},
   "outputs": [
    {
     "name": "stdout",
     "output_type": "stream",
     "text": [
      "10647 5323\n"
     ]
    },
    {
     "data": {
      "text/plain": [
       "SVC(C=1.0, cache_size=200, class_weight=None, coef0=0.0,\n",
       "  decision_function_shape='ovr', degree=3, gamma='auto', kernel='rbf',\n",
       "  max_iter=-1, probability=False, random_state=None, shrinking=True,\n",
       "  tol=0.001, verbose=False)"
      ]
     },
     "execution_count": 171,
     "metadata": {},
     "output_type": "execute_result"
    }
   ],
   "source": [
    "from imblearn.over_sampling import SMOTE\n",
    "data_smote, labels_smote = SMOTE(0.5).fit_resample(data_train, labels_train)\n",
    "print(sum(labels_smote == 0), sum(labels_smote == 1))\n",
    "\n",
    "svm_smote = SVC(gamma='auto')\n",
    "svm_smote.fit(data_smote, labels_smote)"
   ]
  },
  {
   "cell_type": "code",
   "execution_count": 172,
   "metadata": {},
   "outputs": [
    {
     "name": "stdout",
     "output_type": "stream",
     "text": [
      "0.9709566669759674\n",
      "0.9575052854122622\n",
      "[[10337   310]\n",
      " [    3   127]]\n",
      "[[4473  198]\n",
      " [   3   56]]\n",
      "0.9242424242424242\n",
      "0.8333333333333334\n"
     ]
    }
   ],
   "source": [
    "print(svm_smote.score(data_train, labels_train))\n",
    "print(svm_smote.score(data_test, labels_test))\n",
    "print(confusion_matrix(labels_train, svm_smote.predict(data_train)))\n",
    "print(confusion_matrix(labels_test, svm_smote.predict(data_test)))\n",
    "print(rank_accuracy(labels_train, svm_smote.decision_function(data_train), metadata_train, n_tol=2))\n",
    "print(rank_accuracy(labels_test, svm_smote.decision_function(data_test), metadata_test, n_tol=2))"
   ]
  },
  {
   "cell_type": "markdown",
   "metadata": {},
   "source": [
    "## SVM with ADASYN"
   ]
  },
  {
   "cell_type": "code",
   "execution_count": 173,
   "metadata": {},
   "outputs": [
    {
     "name": "stdout",
     "output_type": "stream",
     "text": [
      "10647 5362\n"
     ]
    },
    {
     "data": {
      "text/plain": [
       "SVC(C=1.0, cache_size=200, class_weight=None, coef0=0.0,\n",
       "  decision_function_shape='ovr', degree=3, gamma='auto', kernel='rbf',\n",
       "  max_iter=-1, probability=False, random_state=None, shrinking=True,\n",
       "  tol=0.001, verbose=False)"
      ]
     },
     "execution_count": 173,
     "metadata": {},
     "output_type": "execute_result"
    }
   ],
   "source": [
    "from imblearn.over_sampling import ADASYN\n",
    "data_ada, labels_ada = ADASYN(0.5).fit_resample(data_train, labels_train)\n",
    "print(sum(labels_ada == 0), sum(labels_ada == 1))\n",
    "\n",
    "svm_ada = SVC(gamma='auto')\n",
    "svm_ada.fit(data_ada, labels_ada)"
   ]
  },
  {
   "cell_type": "code",
   "execution_count": 174,
   "metadata": {},
   "outputs": [
    {
     "name": "stdout",
     "output_type": "stream",
     "text": [
      "0.9667811079150042\n",
      "0.9507399577167019\n",
      "[[10290   357]\n",
      " [    1   129]]\n",
      "[[4442  229]\n",
      " [   4   55]]\n",
      "0.9242424242424242\n",
      "0.7833333333333333\n"
     ]
    }
   ],
   "source": [
    "print(svm_ada.score(data_train, labels_train))\n",
    "print(svm_ada.score(data_test, labels_test))\n",
    "print(confusion_matrix(labels_train, svm_ada.predict(data_train)))\n",
    "print(confusion_matrix(labels_test, svm_ada.predict(data_test)))\n",
    "print(rank_accuracy(labels_train, svm_ada.decision_function(data_train), metadata_train, n_tol=2))\n",
    "print(rank_accuracy(labels_test, svm_ada.decision_function(data_test), metadata_test, n_tol=2))"
   ]
  },
  {
   "cell_type": "markdown",
   "metadata": {},
   "source": [
    "## SVM with BorderlineSMOTE"
   ]
  },
  {
   "cell_type": "code",
   "execution_count": 230,
   "metadata": {},
   "outputs": [
    {
     "name": "stdout",
     "output_type": "stream",
     "text": [
      "9985 4992\n"
     ]
    },
    {
     "data": {
      "text/plain": [
       "SVC(C=1.0, cache_size=200, class_weight=None, coef0=0.0,\n",
       "  decision_function_shape='ovr', degree=3, gamma='auto', kernel='rbf',\n",
       "  max_iter=-1, probability=False, random_state=None, shrinking=True,\n",
       "  tol=0.001, verbose=False)"
      ]
     },
     "execution_count": 230,
     "metadata": {},
     "output_type": "execute_result"
    }
   ],
   "source": [
    "from imblearn.over_sampling import BorderlineSMOTE\n",
    "data_bsmote, labels_bsmote = BorderlineSMOTE(0.5).fit_resample(data_train, labels_train)\n",
    "print(sum(labels_bsmote == 0), sum(labels_bsmote == 1))\n",
    "\n",
    "svm_bsmote = SVC(gamma='auto')\n",
    "svm_bsmote.fit(data_bsmote, labels_bsmote)"
   ]
  },
  {
   "cell_type": "code",
   "execution_count": 231,
   "metadata": {},
   "outputs": [
    {
     "name": "stdout",
     "output_type": "stream",
     "text": [
      "0.9798319327731092\n",
      "0.9799703264094956\n",
      "[[9798  187]\n",
      " [  17  113]]\n",
      "[[5235   98]\n",
      " [  10   49]]\n",
      "0.8939393939393939\n",
      "0.85\n"
     ]
    }
   ],
   "source": [
    "print(svm_bsmote.score(data_train, labels_train))\n",
    "print(svm_bsmote.score(data_test, labels_test))\n",
    "print(confusion_matrix(labels_train, svm_bsmote.predict(data_train)))\n",
    "print(confusion_matrix(labels_test, svm_bsmote.predict(data_test)))\n",
    "print(rank_accuracy(labels_train, svm_bsmote.decision_function(data_train), metadata_train, n_tol=2))\n",
    "print(rank_accuracy(labels_test, svm_bsmote.decision_function(data_test), metadata_test, n_tol=2))"
   ]
  },
  {
   "cell_type": "markdown",
   "metadata": {},
   "source": [
    "## SVM with SVMSMOTE"
   ]
  },
  {
   "cell_type": "code",
   "execution_count": 179,
   "metadata": {},
   "outputs": [
    {
     "name": "stdout",
     "output_type": "stream",
     "text": [
      "10647 5323\n"
     ]
    },
    {
     "data": {
      "text/plain": [
       "SVC(C=1.0, cache_size=200, class_weight=None, coef0=0.0,\n",
       "  decision_function_shape='ovr', degree=3, gamma='auto', kernel='rbf',\n",
       "  max_iter=-1, probability=False, random_state=None, shrinking=True,\n",
       "  tol=0.001, verbose=False)"
      ]
     },
     "execution_count": 179,
     "metadata": {},
     "output_type": "execute_result"
    }
   ],
   "source": [
    "from imblearn.over_sampling import SVMSMOTE\n",
    "data_svm, labels_svm = SVMSMOTE(0.5).fit_resample(data_train, labels_train)\n",
    "print(sum(labels_svm == 0), sum(labels_svm == 1))\n",
    "\n",
    "svm_ss = SVC(gamma='auto')\n",
    "svm_ss.fit(data_svm, labels_svm)"
   ]
  },
  {
   "cell_type": "code",
   "execution_count": 180,
   "metadata": {},
   "outputs": [
    {
     "name": "stdout",
     "output_type": "stream",
     "text": [
      "0.9828338127493736\n",
      "0.9710359408033826\n",
      "[[10479   168]\n",
      " [   17   113]]\n",
      "[[4541  130]\n",
      " [   7   52]]\n",
      "0.8560606060606061\n",
      "0.8666666666666667\n"
     ]
    }
   ],
   "source": [
    "print(svm_ss.score(data_train, labels_train))\n",
    "print(svm_ss.score(data_test, labels_test))\n",
    "print(confusion_matrix(labels_train, svm_ss.predict(data_train)))\n",
    "print(confusion_matrix(labels_test, svm_ss.predict(data_test)))\n",
    "print(rank_accuracy(labels_train, svm_ss.decision_function(data_train), metadata_train, n_tol=2))\n",
    "print(rank_accuracy(labels_test, svm_ss.decision_function(data_test), metadata_test, n_tol=2))"
   ]
  },
  {
   "cell_type": "markdown",
   "metadata": {},
   "source": [
    "## SVM with ClusterCentroids (k-means)"
   ]
  },
  {
   "cell_type": "code",
   "execution_count": 181,
   "metadata": {},
   "outputs": [
    {
     "name": "stdout",
     "output_type": "stream",
     "text": [
      "260 130\n"
     ]
    },
    {
     "data": {
      "text/plain": [
       "SVC(C=1.0, cache_size=200, class_weight=None, coef0=0.0,\n",
       "  decision_function_shape='ovr', degree=3, gamma='auto', kernel='rbf',\n",
       "  max_iter=-1, probability=False, random_state=None, shrinking=True,\n",
       "  tol=0.001, verbose=False)"
      ]
     },
     "execution_count": 181,
     "metadata": {},
     "output_type": "execute_result"
    }
   ],
   "source": [
    "from imblearn.under_sampling import ClusterCentroids\n",
    "data_cc, labels_cc = ClusterCentroids(0.5).fit_resample(data_train, labels_train)\n",
    "print(sum(labels_cc == 0), sum(labels_cc == 1))\n",
    "\n",
    "svm_cc = SVC(gamma='auto')\n",
    "svm_cc.fit(data_cc, labels_cc)"
   ]
  },
  {
   "cell_type": "code",
   "execution_count": 182,
   "metadata": {},
   "outputs": [
    {
     "name": "stdout",
     "output_type": "stream",
     "text": [
      "0.94358355757632\n",
      "0.9298097251585624\n",
      "[[10046   601]\n",
      " [    7   123]]\n",
      "[[4341  330]\n",
      " [   2   57]]\n",
      "0.8939393939393939\n",
      "0.7833333333333333\n"
     ]
    }
   ],
   "source": [
    "print(svm_cc.score(data_train, labels_train))\n",
    "print(svm_cc.score(data_test, labels_test))\n",
    "print(confusion_matrix(labels_train, svm_cc.predict(data_train)))\n",
    "print(confusion_matrix(labels_test, svm_cc.predict(data_test)))\n",
    "print(rank_accuracy(labels_train, svm_cc.decision_function(data_train), metadata_train, n_tol=2))\n",
    "print(rank_accuracy(labels_test, svm_cc.decision_function(data_test), metadata_test, n_tol=2))"
   ]
  },
  {
   "cell_type": "markdown",
   "metadata": {},
   "source": [
    "## SVM with RandomUnderSampler"
   ]
  },
  {
   "cell_type": "code",
   "execution_count": 183,
   "metadata": {},
   "outputs": [
    {
     "name": "stdout",
     "output_type": "stream",
     "text": [
      "260 130\n"
     ]
    },
    {
     "data": {
      "text/plain": [
       "SVC(C=1.0, cache_size=200, class_weight=None, coef0=0.0,\n",
       "  decision_function_shape='ovr', degree=3, gamma='auto', kernel='rbf',\n",
       "  max_iter=-1, probability=False, random_state=None, shrinking=True,\n",
       "  tol=0.001, verbose=False)"
      ]
     },
     "execution_count": 183,
     "metadata": {},
     "output_type": "execute_result"
    }
   ],
   "source": [
    "from imblearn.under_sampling import RandomUnderSampler\n",
    "data_rus, labels_rus = RandomUnderSampler(0.5, replacement=True).fit_resample(data_train, labels_train)\n",
    "print(sum(labels_rus == 0), sum(labels_rus == 1))\n",
    "\n",
    "svm_rus = SVC(gamma='auto')\n",
    "svm_rus.fit(data_rus, labels_rus)"
   ]
  },
  {
   "cell_type": "code",
   "execution_count": 184,
   "metadata": {},
   "outputs": [
    {
     "name": "stdout",
     "output_type": "stream",
     "text": [
      "0.9403359005289041\n",
      "0.9255813953488372\n",
      "[[10010   637]\n",
      " [    6   124]]\n",
      "[[4321  350]\n",
      " [   2   57]]\n",
      "0.8636363636363636\n",
      "0.7666666666666667\n"
     ]
    }
   ],
   "source": [
    "print(svm_rus.score(data_train, labels_train))\n",
    "print(svm_rus.score(data_test, labels_test))\n",
    "print(confusion_matrix(labels_train, svm_rus.predict(data_train)))\n",
    "print(confusion_matrix(labels_test, svm_rus.predict(data_test)))\n",
    "print(rank_accuracy(labels_train, svm_rus.decision_function(data_train), metadata_train, n_tol=2))\n",
    "print(rank_accuracy(labels_test, svm_rus.decision_function(data_test), metadata_test, n_tol=2))"
   ]
  },
  {
   "cell_type": "markdown",
   "metadata": {},
   "source": [
    "## SVM with SMOTETomek"
   ]
  },
  {
   "cell_type": "code",
   "execution_count": 200,
   "metadata": {},
   "outputs": [
    {
     "name": "stdout",
     "output_type": "stream",
     "text": [
      "10647 5323\n"
     ]
    },
    {
     "data": {
      "text/plain": [
       "SVC(C=1.0, cache_size=200, class_weight=None, coef0=0.0,\n",
       "  decision_function_shape='ovr', degree=3, gamma='auto', kernel='rbf',\n",
       "  max_iter=-1, probability=False, random_state=None, shrinking=True,\n",
       "  tol=0.001, verbose=False)"
      ]
     },
     "execution_count": 200,
     "metadata": {},
     "output_type": "execute_result"
    }
   ],
   "source": [
    "from imblearn.combine import SMOTETomek\n",
    "data_st, labels_st = SMOTETomek(0.5).fit_resample(data_train, labels_train)\n",
    "print(sum(labels_st == 0), sum(labels_st == 1))\n",
    "\n",
    "svm_st = SVC(gamma='auto')\n",
    "svm_st.fit(data_st, labels_st)"
   ]
  },
  {
   "cell_type": "code",
   "execution_count": 201,
   "metadata": {},
   "outputs": [
    {
     "data": {
      "text/plain": [
       "10647"
      ]
     },
     "execution_count": 201,
     "metadata": {},
     "output_type": "execute_result"
    }
   ],
   "source": [
    "sum(labels_train == 0)"
   ]
  },
  {
   "cell_type": "code",
   "execution_count": 202,
   "metadata": {},
   "outputs": [
    {
     "name": "stdout",
     "output_type": "stream",
     "text": [
      "0.9702143453651294\n",
      "0.9562367864693446\n",
      "[[10329   318]\n",
      " [    3   127]]\n",
      "[[4468  203]\n",
      " [   4   55]]\n",
      "0.9318181818181818\n",
      "0.8166666666666667\n"
     ]
    }
   ],
   "source": [
    "print(svm_st.score(data_train, labels_train))\n",
    "print(svm_st.score(data_test, labels_test))\n",
    "print(confusion_matrix(labels_train, svm_st.predict(data_train)))\n",
    "print(confusion_matrix(labels_test, svm_st.predict(data_test)))\n",
    "print(rank_accuracy(labels_train, svm_st.decision_function(data_train), metadata_train, n_tol=2))\n",
    "print(rank_accuracy(labels_test, svm_st.decision_function(data_test), metadata_test, n_tol=2))"
   ]
  },
  {
   "cell_type": "markdown",
   "metadata": {},
   "source": [
    "## SVM with SMOTEEN"
   ]
  },
  {
   "cell_type": "code",
   "execution_count": 232,
   "metadata": {},
   "outputs": [
    {
     "name": "stdout",
     "output_type": "stream",
     "text": [
      "9660 4974\n"
     ]
    },
    {
     "data": {
      "text/plain": [
       "SVC(C=1.0, cache_size=200, class_weight=None, coef0=0.0,\n",
       "  decision_function_shape='ovr', degree=3, gamma='auto', kernel='rbf',\n",
       "  max_iter=-1, probability=False, random_state=None, shrinking=True,\n",
       "  tol=0.001, verbose=False)"
      ]
     },
     "execution_count": 232,
     "metadata": {},
     "output_type": "execute_result"
    }
   ],
   "source": [
    "from imblearn.combine import SMOTEENN\n",
    "data_stee, labels_stee = SMOTEENN(0.5).fit_resample(data_train, labels_train)\n",
    "print(sum(labels_stee == 0), sum(labels_stee == 1))\n",
    "\n",
    "svm_stee = SVC(gamma='auto')\n",
    "svm_stee.fit(data_stee, labels_stee)"
   ]
  },
  {
   "cell_type": "code",
   "execution_count": 233,
   "metadata": {},
   "outputs": [
    {
     "name": "stdout",
     "output_type": "stream",
     "text": [
      "0.966584280771132\n",
      "0.9643916913946587\n",
      "[[9649  336]\n",
      " [   2  128]]\n",
      "[[5150  183]\n",
      " [   9   50]]\n",
      "0.9015151515151515\n",
      "0.8\n"
     ]
    }
   ],
   "source": [
    "print(svm_stee.score(data_train, labels_train))\n",
    "print(svm_stee.score(data_test, labels_test))\n",
    "print(confusion_matrix(labels_train, svm_stee.predict(data_train)))\n",
    "print(confusion_matrix(labels_test, svm_stee.predict(data_test)))\n",
    "print(rank_accuracy(labels_train, svm_stee.decision_function(data_train), metadata_train, n_tol=2))\n",
    "print(rank_accuracy(labels_test, svm_stee.decision_function(data_test), metadata_test, n_tol=2))"
   ]
  },
  {
   "cell_type": "markdown",
   "metadata": {},
   "source": [
    "## RandomForest with BoarderlineSmote"
   ]
  },
  {
   "cell_type": "code",
   "execution_count": 30,
   "metadata": {},
   "outputs": [
    {
     "name": "stdout",
     "output_type": "stream",
     "text": [
      "11948 5974\n"
     ]
    },
    {
     "data": {
      "text/plain": [
       "RandomForestClassifier(bootstrap=True, class_weight=None, criterion='gini',\n",
       "            max_depth=None, max_features='auto', max_leaf_nodes=None,\n",
       "            min_impurity_decrease=0.0, min_impurity_split=None,\n",
       "            min_samples_leaf=1, min_samples_split=2,\n",
       "            min_weight_fraction_leaf=0.0, n_estimators=100, n_jobs=None,\n",
       "            oob_score=False, random_state=None, verbose=0,\n",
       "            warm_start=False)"
      ]
     },
     "execution_count": 30,
     "metadata": {},
     "output_type": "execute_result"
    }
   ],
   "source": [
    "from sklearn.ensemble import RandomForestClassifier\n",
    "from imblearn.over_sampling import BorderlineSMOTE\n",
    "data_bsmote, labels_bsmote = BorderlineSMOTE(0.5).fit_resample(data_train, labels_train)\n",
    "print(sum(labels_bsmote == 0), sum(labels_bsmote == 1))\n",
    "\n",
    "forest_bs = RandomForestClassifier(n_estimators=100)\n",
    "forest_bs.fit(data_bsmote, labels_bsmote)"
   ]
  },
  {
   "cell_type": "code",
   "execution_count": 34,
   "metadata": {},
   "outputs": [
    {
     "name": "stdout",
     "output_type": "stream",
     "text": [
      "1.0\n",
      "0.9874333587204874\n",
      "[[11948     0]\n",
      " [    0   132]]\n",
      "[[5149   38]\n",
      " [  28   37]]\n",
      "1.0\n",
      "0.8382352941176471\n"
     ]
    }
   ],
   "source": [
    "print(forest_bs.score(data_train, labels_train))\n",
    "print(forest_bs.score(data_test, labels_test))\n",
    "print(confusion_matrix(labels_train, forest_bs.predict(data_train)))\n",
    "print(confusion_matrix(labels_test, forest_bs.predict(data_test)))\n",
    "print(rank_accuracy(labels_train, forest_bs.predict_proba(data_train), metadata_train, n_tol=2))\n",
    "print(rank_accuracy(labels_test, forest_bs.predict_proba(data_test), metadata_test, n_tol=2))"
   ]
  },
  {
   "cell_type": "code",
   "execution_count": 220,
   "metadata": {},
   "outputs": [
    {
     "data": {
      "text/plain": [
       "GridSearchCV(cv=5, error_score='raise-deprecating',\n",
       "       estimator=RandomForestClassifier(bootstrap=True, class_weight=None, criterion='gini',\n",
       "            max_depth=None, max_features='auto', max_leaf_nodes=None,\n",
       "            min_impurity_decrease=0.0, min_impurity_split=None,\n",
       "            min_samples_leaf=1, min_samples_split=2,\n",
       "            min_weight_fraction_leaf=0.0, n_estimators=100, n_jobs=None,\n",
       "            oob_score=False, random_state=None, verbose=0,\n",
       "            warm_start=False),\n",
       "       fit_params=None, iid='warn', n_jobs=None,\n",
       "       param_grid={'max_features': [1, 'auto', None], 'max_depth': [1, 5, None], 'min_samples_leaf': [1, 2, 4]},\n",
       "       pre_dispatch='2*n_jobs', refit=True, return_train_score='warn',\n",
       "       scoring=None, verbose=0)"
      ]
     },
     "execution_count": 220,
     "metadata": {},
     "output_type": "execute_result"
    }
   ],
   "source": [
    "from sklearn.model_selection import GridSearchCV\n",
    "forest_params = {\n",
    "    'max_features': [1, 'auto', None],\n",
    "    'max_depth': [1, 5, None],\n",
    "    'min_samples_leaf': [1, 2, 4]\n",
    "}\n",
    "gs_forest = GridSearchCV(RandomForestClassifier(n_estimators=100), forest_params, cv=5)\n",
    "gs_forest.fit(data_bsmote, labels_bsmote)"
   ]
  },
  {
   "cell_type": "code",
   "execution_count": 221,
   "metadata": {},
   "outputs": [
    {
     "name": "stdout",
     "output_type": "stream",
     "text": [
      "{'max_depth': None, 'max_features': 1, 'min_samples_leaf': 1}\n"
     ]
    }
   ],
   "source": [
    "print(gs_forest.best_params_)"
   ]
  },
  {
   "cell_type": "code",
   "execution_count": 225,
   "metadata": {},
   "outputs": [
    {
     "name": "stdout",
     "output_type": "stream",
     "text": [
      "1.0\n",
      "0.9845665961945032\n",
      "[[10647     0]\n",
      " [    0   130]]\n",
      "[[4626   45]\n",
      " [  28   31]]\n",
      "0.9848484848484849\n",
      "0.8333333333333334\n"
     ]
    }
   ],
   "source": [
    "forest = gs_forest.best_estimator_\n",
    "print(forest.score(data_train, labels_train))\n",
    "print(forest.score(data_test, labels_test))\n",
    "print(confusion_matrix(labels_train, forest.predict(data_train)))\n",
    "print(confusion_matrix(labels_test, forest.predict(data_test)))\n",
    "print(rank_accuracy(labels_train, forest.predict_proba(data_train), metadata_train, n_tol=2))\n",
    "print(rank_accuracy(labels_test, forest.predict_proba(data_test), metadata_test, n_tol=2))"
   ]
  },
  {
   "cell_type": "markdown",
   "metadata": {},
   "source": [
    "## Blanced Bagging classifier"
   ]
  },
  {
   "cell_type": "code",
   "execution_count": 262,
   "metadata": {},
   "outputs": [
    {
     "data": {
      "text/plain": [
       "BalancedBaggingClassifier(base_estimator=DecisionTreeClassifier(class_weight=None, criterion='gini', max_depth=None,\n",
       "            max_features=None, max_leaf_nodes=None,\n",
       "            min_impurity_decrease=0.0, min_impurity_split=None,\n",
       "            min_samples_leaf=1, min_samples_split=2,\n",
       "            min_weight_fraction_leaf=0.0, presort=False, random_state=None,\n",
       "            splitter='best'),\n",
       "             bootstrap=True, bootstrap_features=False, max_features=1.0,\n",
       "             max_samples=1.0, n_estimators=100, n_jobs=1, oob_score=False,\n",
       "             random_state=None, ratio=None, replacement=False,\n",
       "             sampling_strategy='auto', verbose=0, warm_start=False)"
      ]
     },
     "execution_count": 262,
     "metadata": {},
     "output_type": "execute_result"
    }
   ],
   "source": [
    "from imblearn.ensemble import BalancedBaggingClassifier\n",
    "from sklearn.tree import DecisionTreeClassifier\n",
    "bbc = BalancedBaggingClassifier(base_estimator=DecisionTreeClassifier(),\n",
    "                                 sampling_strategy='auto',\n",
    "                                 replacement=False,\n",
    "                                 n_estimators=100)\n",
    "bbc.fit(data_train, labels_train)"
   ]
  },
  {
   "cell_type": "code",
   "execution_count": 263,
   "metadata": {},
   "outputs": [
    {
     "name": "stdout",
     "output_type": "stream",
     "text": [
      "0.955116164112704\n",
      "0.9541913946587537\n",
      "[[9531  454]\n",
      " [   0  130]]\n",
      "[[5087  246]\n",
      " [   1   58]]\n",
      "0.946969696969697\n",
      "0.8666666666666667\n"
     ]
    }
   ],
   "source": [
    "print(bbc.score(data_train, labels_train))\n",
    "print(bbc.score(data_test, labels_test))\n",
    "print(confusion_matrix(labels_train, bbc.predict(data_train)))\n",
    "print(confusion_matrix(labels_test, bbc.predict(data_test)))\n",
    "print(rank_accuracy(labels_train, bbc.predict_proba(data_train), metadata_train, n_tol=2))\n",
    "print(rank_accuracy(labels_test, bbc.predict_proba(data_test), metadata_test, n_tol=2))"
   ]
  },
  {
   "cell_type": "markdown",
   "metadata": {},
   "source": [
    "## Balanced RandomForest Classifier"
   ]
  },
  {
   "cell_type": "code",
   "execution_count": 52,
   "metadata": {},
   "outputs": [
    {
     "data": {
      "text/plain": [
       "BalancedRandomForestClassifier(bootstrap=True, class_weight=None,\n",
       "                criterion='gini', max_depth=None, max_features='auto',\n",
       "                max_leaf_nodes=None, min_impurity_decrease=0.0,\n",
       "                min_samples_leaf=2, min_samples_split=2,\n",
       "                min_weight_fraction_leaf=0.0, n_estimators=100, n_jobs=1,\n",
       "                oob_score=False, random_state=None, replacement=False,\n",
       "                sampling_strategy='auto', verbose=0, warm_start=False)"
      ]
     },
     "execution_count": 52,
     "metadata": {},
     "output_type": "execute_result"
    }
   ],
   "source": [
    "from imblearn.ensemble import BalancedRandomForestClassifier\n",
    "brf = BalancedRandomForestClassifier(n_estimators=100)\n",
    "brf.fit(data_train, labels_train)"
   ]
  },
  {
   "cell_type": "code",
   "execution_count": 53,
   "metadata": {},
   "outputs": [
    {
     "name": "stdout",
     "output_type": "stream",
     "text": [
      "0.9576158940397351\n",
      "0.9554455445544554\n",
      "[[11438   510]\n",
      " [    2   130]]\n",
      "[[4956  231]\n",
      " [   3   62]]\n",
      "0.9621212121212122\n",
      "0.8676470588235294\n"
     ]
    }
   ],
   "source": [
    "print(brf.score(data_train, labels_train))\n",
    "print(brf.score(data_test, labels_test))\n",
    "print(confusion_matrix(labels_train, brf.predict(data_train)))\n",
    "print(confusion_matrix(labels_test, brf.predict(data_test)))\n",
    "print(rank_accuracy(labels_train, brf.predict_proba(data_train), metadata_train, n_tol=2))\n",
    "print(rank_accuracy(labels_test, brf.predict_proba(data_test), metadata_test, n_tol=2))"
   ]
  },
  {
   "cell_type": "code",
   "execution_count": 272,
   "metadata": {},
   "outputs": [
    {
     "data": {
      "text/plain": [
       "RUSBoostClassifier(algorithm='SAMME.R', base_estimator=None,\n",
       "          learning_rate=1.0, n_estimators=100, random_state=None,\n",
       "          replacement=False, sampling_strategy='auto')"
      ]
     },
     "execution_count": 272,
     "metadata": {},
     "output_type": "execute_result"
    }
   ],
   "source": [
    "from imblearn.ensemble import RUSBoostClassifier\n",
    "rusboost = RUSBoostClassifier(n_estimators=100)\n",
    "rusboost.fit(data_train, labels_train)"
   ]
  },
  {
   "cell_type": "code",
   "execution_count": 273,
   "metadata": {},
   "outputs": [
    {
     "name": "stdout",
     "output_type": "stream",
     "text": [
      "0.9894216510133466\n",
      "0.9820103857566765\n",
      "[[9878  107]\n",
      " [   0  130]]\n",
      "[[5254   79]\n",
      " [  18   41]]\n",
      "0.9848484848484849\n",
      "0.7666666666666667\n"
     ]
    }
   ],
   "source": [
    "print(rusboost.score(data_train, labels_train))\n",
    "print(rusboost.score(data_test, labels_test))\n",
    "print(confusion_matrix(labels_train, rusboost.predict(data_train)))\n",
    "print(confusion_matrix(labels_test, rusboost.predict(data_test)))\n",
    "print(rank_accuracy(labels_train, rusboost.predict_proba(data_train), metadata_train, n_tol=2))\n",
    "print(rank_accuracy(labels_test, rusboost.predict_proba(data_test), metadata_test, n_tol=2))"
   ]
  },
  {
   "cell_type": "code",
   "execution_count": 274,
   "metadata": {},
   "outputs": [
    {
     "data": {
      "text/plain": [
       "EasyEnsembleClassifier(base_estimator=None, n_estimators=100, n_jobs=1,\n",
       "            random_state=None, replacement=False, sampling_strategy='auto',\n",
       "            verbose=0, warm_start=False)"
      ]
     },
     "execution_count": 274,
     "metadata": {},
     "output_type": "execute_result"
    }
   ],
   "source": [
    "from imblearn.ensemble import EasyEnsembleClassifier\n",
    "eec = EasyEnsembleClassifier(n_estimators=100)\n",
    "eec.fit(data_train, labels_train)"
   ]
  },
  {
   "cell_type": "code",
   "execution_count": 275,
   "metadata": {},
   "outputs": [
    {
     "name": "stdout",
     "output_type": "stream",
     "text": [
      "0.9387048937221948\n",
      "0.9438056379821959\n",
      "[[9365  620]\n",
      " [   0  130]]\n",
      "[[5031  302]\n",
      " [   1   58]]\n",
      "0.9015151515151515\n",
      "0.8666666666666667\n"
     ]
    }
   ],
   "source": [
    "print(eec.score(data_train, labels_train))\n",
    "print(eec.score(data_test, labels_test))\n",
    "print(confusion_matrix(labels_train, eec.predict(data_train)))\n",
    "print(confusion_matrix(labels_test, eec.predict(data_test)))\n",
    "print(rank_accuracy(labels_train, eec.predict_proba(data_train), metadata_train, n_tol=2))\n",
    "print(rank_accuracy(labels_test, eec.predict_proba(data_test), metadata_test, n_tol=2))"
   ]
  },
  {
   "cell_type": "code",
   "execution_count": null,
   "metadata": {},
   "outputs": [],
   "source": []
  },
  {
   "cell_type": "markdown",
   "metadata": {},
   "source": [
    "## Probability Calibration"
   ]
  },
  {
   "cell_type": "code",
   "execution_count": 37,
   "metadata": {},
   "outputs": [
    {
     "data": {
      "text/plain": [
       "CalibratedClassifierCV(base_estimator=BalancedRandomForestClassifier(bootstrap=True, class_weight=None,\n",
       "                criterion='gini', max_depth=None, max_features='auto',\n",
       "                max_leaf_nodes=None, min_impurity_decrease=0.0,\n",
       "                min_samples_leaf=2, min_samples_split=2,\n",
       "                min_weight_fraction_leaf=0.0, n_estimators=100, n_jobs=1,\n",
       "                oob_score=False, random_state=None, replacement=False,\n",
       "                sampling_strategy='auto', verbose=0, warm_start=False),\n",
       "            cv=5, method='sigmoid')"
      ]
     },
     "execution_count": 37,
     "metadata": {},
     "output_type": "execute_result"
    }
   ],
   "source": [
    "from sklearn.calibration import CalibratedClassifierCV\n",
    "cc = CalibratedClassifierCV(BalancedRandomForestClassifier(), cv=5)\n",
    "cc.fit(data_train, labels_train)"
   ]
  },
  {
   "cell_type": "code",
   "execution_count": 39,
   "metadata": {},
   "outputs": [
    {
     "name": "stdout",
     "output_type": "stream",
     "text": [
      "0.993046357615894\n",
      "0.9891469916222392\n",
      "[[11936    12]\n",
      " [   72    60]]\n",
      "[[5175   12]\n",
      " [  45   20]]\n",
      "0.9393939393939394\n",
      "0.8823529411764706\n"
     ]
    }
   ],
   "source": [
    "print(cc.score(data_train, labels_train))\n",
    "print(cc.score(data_test, labels_test))\n",
    "print(confusion_matrix(labels_train, cc.predict(data_train)))\n",
    "print(confusion_matrix(labels_test, cc.predict(data_test)))\n",
    "print(rank_accuracy(labels_train, cc.predict_proba(data_train), metadata_train, n_tol=2))\n",
    "print(rank_accuracy(labels_test, cc.predict_proba(data_test), metadata_test, n_tol=2))"
   ]
  },
  {
   "cell_type": "code",
   "execution_count": null,
   "metadata": {},
   "outputs": [],
   "source": []
  }
 ],
 "metadata": {
  "kernelspec": {
   "display_name": "Python 3",
   "language": "python",
   "name": "python3"
  },
  "language_info": {
   "codemirror_mode": {
    "name": "ipython",
    "version": 3
   },
   "file_extension": ".py",
   "mimetype": "text/x-python",
   "name": "python",
   "nbconvert_exporter": "python",
   "pygments_lexer": "ipython3",
   "version": "3.6.6"
  }
 },
 "nbformat": 4,
 "nbformat_minor": 2
}
