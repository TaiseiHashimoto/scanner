{
 "cells": [
  {
   "cell_type": "code",
   "execution_count": 1,
   "metadata": {},
   "outputs": [],
   "source": [
    "import pickle\n",
    "import os\n",
    "import pandas as pd\n",
    "import numpy as np"
   ]
  },
  {
   "cell_type": "code",
   "execution_count": 12,
   "metadata": {},
   "outputs": [],
   "source": [
    "with open(\"ml_model.pickle\", \"rb\") as f:\n",
    "    model = pickle.load(f)"
   ]
  },
  {
   "cell_type": "code",
   "execution_count": 13,
   "metadata": {},
   "outputs": [
    {
     "data": {
      "text/plain": [
       "BalancedRandomForestClassifier(bootstrap=True, class_weight=None,\n",
       "                criterion='gini', max_depth=None, max_features='auto',\n",
       "                max_leaf_nodes=None, min_impurity_decrease=0.0,\n",
       "                min_samples_leaf=2, min_samples_split=2,\n",
       "                min_weight_fraction_leaf=0.0, n_estimators=100, n_jobs=1,\n",
       "                oob_score=False, random_state=None, replacement=False,\n",
       "                sampling_strategy='auto', verbose=0, warm_start=False)"
      ]
     },
     "execution_count": 13,
     "metadata": {},
     "output_type": "execute_result"
    }
   ],
   "source": [
    "model"
   ]
  },
  {
   "cell_type": "code",
   "execution_count": 14,
   "metadata": {},
   "outputs": [],
   "source": [
    "def get_and_store_score(folder_names):\n",
    "    for name in folder_names:\n",
    "        fname = 'data/' + name + '/ml_data1.csv'\n",
    "        if not os.path.exists(fname):\n",
    "            continue\n",
    "        print(fname)\n",
    "        d = pd.read_csv(fname, header=None)\n",
    "        data = d.iloc[:, 2:]\n",
    "        scores = pd.Series(model.predict_log_proba(data)[:, 1])\n",
    "        ids = pd.Series(range(len(data)))\n",
    "        posnums = d.iloc[:, 1]\n",
    "#         result = pd.concat([ids, posnums, scores], axis=1)\n",
    "        result = pd.DataFrame(scores)\n",
    "#         print(result)\n",
    "        result.to_csv('data/' + name + '/score.csv', header=None, index=None)"
   ]
  },
  {
   "cell_type": "code",
   "execution_count": 15,
   "metadata": {
    "scrolled": true
   },
   "outputs": [
    {
     "name": "stdout",
     "output_type": "stream",
     "text": [
      "data/dir7/ml_data1.csv\n",
      "data/book3/ml_data1.csv\n",
      "data/cd1/ml_data1.csv\n",
      "data/shine3/ml_data1.csv\n",
      "data/note3/ml_data1.csv\n",
      "data/note16/ml_data1.csv\n",
      "data/note7/ml_data1.csv\n",
      "data/dir2/ml_data1.csv\n",
      "data/card3/ml_data1.csv\n",
      "data/shine1/ml_data1.csv\n",
      "data/book1/ml_data1.csv\n",
      "data/book2/ml_data1.csv\n",
      "data/note4/ml_data1.csv\n"
     ]
    },
    {
     "name": "stderr",
     "output_type": "stream",
     "text": [
      "/home/denjo/.local/lib/python3.6/site-packages/sklearn/ensemble/forest.py:631: RuntimeWarning: divide by zero encountered in log\n",
      "  return np.log(proba)\n",
      "/home/denjo/.local/lib/python3.6/site-packages/sklearn/ensemble/forest.py:631: RuntimeWarning: divide by zero encountered in log\n",
      "  return np.log(proba)\n",
      "/home/denjo/.local/lib/python3.6/site-packages/sklearn/ensemble/forest.py:631: RuntimeWarning: divide by zero encountered in log\n",
      "  return np.log(proba)\n",
      "/home/denjo/.local/lib/python3.6/site-packages/sklearn/ensemble/forest.py:631: RuntimeWarning: divide by zero encountered in log\n",
      "  return np.log(proba)\n",
      "/home/denjo/.local/lib/python3.6/site-packages/sklearn/ensemble/forest.py:631: RuntimeWarning: divide by zero encountered in log\n",
      "  return np.log(proba)\n",
      "/home/denjo/.local/lib/python3.6/site-packages/sklearn/ensemble/forest.py:631: RuntimeWarning: divide by zero encountered in log\n",
      "  return np.log(proba)\n",
      "/home/denjo/.local/lib/python3.6/site-packages/sklearn/ensemble/forest.py:631: RuntimeWarning: divide by zero encountered in log\n",
      "  return np.log(proba)\n",
      "/home/denjo/.local/lib/python3.6/site-packages/sklearn/ensemble/forest.py:631: RuntimeWarning: divide by zero encountered in log\n",
      "  return np.log(proba)\n",
      "/home/denjo/.local/lib/python3.6/site-packages/sklearn/ensemble/forest.py:631: RuntimeWarning: divide by zero encountered in log\n",
      "  return np.log(proba)\n",
      "/home/denjo/.local/lib/python3.6/site-packages/sklearn/ensemble/forest.py:631: RuntimeWarning: divide by zero encountered in log\n",
      "  return np.log(proba)\n",
      "/home/denjo/.local/lib/python3.6/site-packages/sklearn/ensemble/forest.py:631: RuntimeWarning: divide by zero encountered in log\n",
      "  return np.log(proba)\n",
      "/home/denjo/.local/lib/python3.6/site-packages/sklearn/ensemble/forest.py:631: RuntimeWarning: divide by zero encountered in log\n",
      "  return np.log(proba)\n"
     ]
    },
    {
     "name": "stdout",
     "output_type": "stream",
     "text": [
      "data/note12/ml_data1.csv\n",
      "data/shine2/ml_data1.csv\n",
      "data/cd4/ml_data1.csv\n",
      "data/book7/ml_data1.csv\n",
      "data/book4/ml_data1.csv\n",
      "data/cd5/ml_data1.csv\n",
      "data/note2/ml_data1.csv\n",
      "data/cd2/ml_data1.csv\n",
      "data/dir1/ml_data1.csv\n",
      "data/note14/ml_data1.csv\n",
      "data/dir6/ml_data1.csv\n",
      "data/note19/ml_data1.csv\n"
     ]
    },
    {
     "name": "stderr",
     "output_type": "stream",
     "text": [
      "/home/denjo/.local/lib/python3.6/site-packages/sklearn/ensemble/forest.py:631: RuntimeWarning: divide by zero encountered in log\n",
      "  return np.log(proba)\n",
      "/home/denjo/.local/lib/python3.6/site-packages/sklearn/ensemble/forest.py:631: RuntimeWarning: divide by zero encountered in log\n",
      "  return np.log(proba)\n",
      "/home/denjo/.local/lib/python3.6/site-packages/sklearn/ensemble/forest.py:631: RuntimeWarning: divide by zero encountered in log\n",
      "  return np.log(proba)\n",
      "/home/denjo/.local/lib/python3.6/site-packages/sklearn/ensemble/forest.py:631: RuntimeWarning: divide by zero encountered in log\n",
      "  return np.log(proba)\n",
      "/home/denjo/.local/lib/python3.6/site-packages/sklearn/ensemble/forest.py:631: RuntimeWarning: divide by zero encountered in log\n",
      "  return np.log(proba)\n",
      "/home/denjo/.local/lib/python3.6/site-packages/sklearn/ensemble/forest.py:631: RuntimeWarning: divide by zero encountered in log\n",
      "  return np.log(proba)\n",
      "/home/denjo/.local/lib/python3.6/site-packages/sklearn/ensemble/forest.py:631: RuntimeWarning: divide by zero encountered in log\n",
      "  return np.log(proba)\n",
      "/home/denjo/.local/lib/python3.6/site-packages/sklearn/ensemble/forest.py:631: RuntimeWarning: divide by zero encountered in log\n",
      "  return np.log(proba)\n",
      "/home/denjo/.local/lib/python3.6/site-packages/sklearn/ensemble/forest.py:631: RuntimeWarning: divide by zero encountered in log\n",
      "  return np.log(proba)\n",
      "/home/denjo/.local/lib/python3.6/site-packages/sklearn/ensemble/forest.py:631: RuntimeWarning: divide by zero encountered in log\n",
      "  return np.log(proba)\n",
      "/home/denjo/.local/lib/python3.6/site-packages/sklearn/ensemble/forest.py:631: RuntimeWarning: divide by zero encountered in log\n",
      "  return np.log(proba)\n",
      "/home/denjo/.local/lib/python3.6/site-packages/sklearn/ensemble/forest.py:631: RuntimeWarning: divide by zero encountered in log\n",
      "  return np.log(proba)\n",
      "/home/denjo/.local/lib/python3.6/site-packages/sklearn/ensemble/forest.py:631: RuntimeWarning: divide by zero encountered in log\n",
      "  return np.log(proba)\n"
     ]
    },
    {
     "name": "stdout",
     "output_type": "stream",
     "text": [
      "data/book10/ml_data1.csv\n",
      "data/note13/ml_data1.csv\n",
      "data/note15/ml_data1.csv\n",
      "data/note8/ml_data1.csv\n",
      "data/zoff6/ml_data1.csv\n",
      "data/paper3/ml_data1.csv\n",
      "data/zoff5/ml_data1.csv\n",
      "data/dir4/ml_data1.csv\n",
      "data/zoff4/ml_data1.csv\n",
      "data/note9/ml_data1.csv\n",
      "data/note6/ml_data1.csv\n",
      "data/note5/ml_data1.csv\n",
      "data/zoff3/ml_data1.csv\n",
      "data/paper1/ml_data1.csv\n",
      "data/zoff2/ml_data1.csv\n"
     ]
    },
    {
     "name": "stderr",
     "output_type": "stream",
     "text": [
      "/home/denjo/.local/lib/python3.6/site-packages/sklearn/ensemble/forest.py:631: RuntimeWarning: divide by zero encountered in log\n",
      "  return np.log(proba)\n",
      "/home/denjo/.local/lib/python3.6/site-packages/sklearn/ensemble/forest.py:631: RuntimeWarning: divide by zero encountered in log\n",
      "  return np.log(proba)\n",
      "/home/denjo/.local/lib/python3.6/site-packages/sklearn/ensemble/forest.py:631: RuntimeWarning: divide by zero encountered in log\n",
      "  return np.log(proba)\n",
      "/home/denjo/.local/lib/python3.6/site-packages/sklearn/ensemble/forest.py:631: RuntimeWarning: divide by zero encountered in log\n",
      "  return np.log(proba)\n",
      "/home/denjo/.local/lib/python3.6/site-packages/sklearn/ensemble/forest.py:631: RuntimeWarning: divide by zero encountered in log\n",
      "  return np.log(proba)\n",
      "/home/denjo/.local/lib/python3.6/site-packages/sklearn/ensemble/forest.py:631: RuntimeWarning: divide by zero encountered in log\n",
      "  return np.log(proba)\n",
      "/home/denjo/.local/lib/python3.6/site-packages/sklearn/ensemble/forest.py:631: RuntimeWarning: divide by zero encountered in log\n",
      "  return np.log(proba)\n",
      "/home/denjo/.local/lib/python3.6/site-packages/sklearn/ensemble/forest.py:631: RuntimeWarning: divide by zero encountered in log\n",
      "  return np.log(proba)\n",
      "/home/denjo/.local/lib/python3.6/site-packages/sklearn/ensemble/forest.py:631: RuntimeWarning: divide by zero encountered in log\n",
      "  return np.log(proba)\n",
      "/home/denjo/.local/lib/python3.6/site-packages/sklearn/ensemble/forest.py:631: RuntimeWarning: divide by zero encountered in log\n",
      "  return np.log(proba)\n",
      "/home/denjo/.local/lib/python3.6/site-packages/sklearn/ensemble/forest.py:631: RuntimeWarning: divide by zero encountered in log\n",
      "  return np.log(proba)\n",
      "/home/denjo/.local/lib/python3.6/site-packages/sklearn/ensemble/forest.py:631: RuntimeWarning: divide by zero encountered in log\n",
      "  return np.log(proba)\n"
     ]
    },
    {
     "name": "stdout",
     "output_type": "stream",
     "text": [
      "data/cd3/ml_data1.csv\n",
      "data/book8/ml_data1.csv\n",
      "data/note1/ml_data1.csv\n",
      "data/note10/ml_data1.csv\n",
      "data/book6/ml_data1.csv\n",
      "data/paper2/ml_data1.csv\n",
      "data/dir5/ml_data1.csv\n",
      "data/book5/ml_data1.csv\n",
      "data/note11/ml_data1.csv\n",
      "data/card1/ml_data1.csv\n",
      "data/dir3/ml_data1.csv\n",
      "data/book9/ml_data1.csv\n",
      "data/zoff1/ml_data1.csv\n"
     ]
    },
    {
     "name": "stderr",
     "output_type": "stream",
     "text": [
      "/home/denjo/.local/lib/python3.6/site-packages/sklearn/ensemble/forest.py:631: RuntimeWarning: divide by zero encountered in log\n",
      "  return np.log(proba)\n",
      "/home/denjo/.local/lib/python3.6/site-packages/sklearn/ensemble/forest.py:631: RuntimeWarning: divide by zero encountered in log\n",
      "  return np.log(proba)\n",
      "/home/denjo/.local/lib/python3.6/site-packages/sklearn/ensemble/forest.py:631: RuntimeWarning: divide by zero encountered in log\n",
      "  return np.log(proba)\n",
      "/home/denjo/.local/lib/python3.6/site-packages/sklearn/ensemble/forest.py:631: RuntimeWarning: divide by zero encountered in log\n",
      "  return np.log(proba)\n",
      "/home/denjo/.local/lib/python3.6/site-packages/sklearn/ensemble/forest.py:631: RuntimeWarning: divide by zero encountered in log\n",
      "  return np.log(proba)\n",
      "/home/denjo/.local/lib/python3.6/site-packages/sklearn/ensemble/forest.py:631: RuntimeWarning: divide by zero encountered in log\n",
      "  return np.log(proba)\n",
      "/home/denjo/.local/lib/python3.6/site-packages/sklearn/ensemble/forest.py:631: RuntimeWarning: divide by zero encountered in log\n",
      "  return np.log(proba)\n",
      "/home/denjo/.local/lib/python3.6/site-packages/sklearn/ensemble/forest.py:631: RuntimeWarning: divide by zero encountered in log\n",
      "  return np.log(proba)\n",
      "/home/denjo/.local/lib/python3.6/site-packages/sklearn/ensemble/forest.py:631: RuntimeWarning: divide by zero encountered in log\n",
      "  return np.log(proba)\n",
      "/home/denjo/.local/lib/python3.6/site-packages/sklearn/ensemble/forest.py:631: RuntimeWarning: divide by zero encountered in log\n",
      "  return np.log(proba)\n",
      "/home/denjo/.local/lib/python3.6/site-packages/sklearn/ensemble/forest.py:631: RuntimeWarning: divide by zero encountered in log\n",
      "  return np.log(proba)\n",
      "/home/denjo/.local/lib/python3.6/site-packages/sklearn/ensemble/forest.py:631: RuntimeWarning: divide by zero encountered in log\n",
      "  return np.log(proba)\n"
     ]
    },
    {
     "name": "stdout",
     "output_type": "stream",
     "text": [
      "data/note17/ml_data1.csv\n",
      "data/note18/ml_data1.csv\n",
      "data/shine4/ml_data1.csv\n"
     ]
    },
    {
     "name": "stderr",
     "output_type": "stream",
     "text": [
      "/home/denjo/.local/lib/python3.6/site-packages/sklearn/ensemble/forest.py:631: RuntimeWarning: divide by zero encountered in log\n",
      "  return np.log(proba)\n",
      "/home/denjo/.local/lib/python3.6/site-packages/sklearn/ensemble/forest.py:631: RuntimeWarning: divide by zero encountered in log\n",
      "  return np.log(proba)\n"
     ]
    }
   ],
   "source": [
    "folder_names = os.listdir('data')\n",
    "get_and_store_score(folder_names)"
   ]
  },
  {
   "cell_type": "code",
   "execution_count": null,
   "metadata": {},
   "outputs": [],
   "source": []
  },
  {
   "cell_type": "code",
   "execution_count": null,
   "metadata": {},
   "outputs": [],
   "source": []
  }
 ],
 "metadata": {
  "kernelspec": {
   "display_name": "Python 3",
   "language": "python",
   "name": "python3"
  },
  "language_info": {
   "codemirror_mode": {
    "name": "ipython",
    "version": 3
   },
   "file_extension": ".py",
   "mimetype": "text/x-python",
   "name": "python",
   "nbconvert_exporter": "python",
   "pygments_lexer": "ipython3",
   "version": "3.6.6"
  }
 },
 "nbformat": 4,
 "nbformat_minor": 2
}
