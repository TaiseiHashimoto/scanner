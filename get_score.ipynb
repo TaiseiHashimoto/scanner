{
 "cells": [
  {
   "cell_type": "code",
   "execution_count": 1,
   "metadata": {},
   "outputs": [],
   "source": [
    "import pickle\n",
    "import os\n",
    "import pandas as pd\n",
    "import numpy as np"
   ]
  },
  {
   "cell_type": "code",
   "execution_count": 2,
   "metadata": {},
   "outputs": [],
   "source": [
    "with open(\"ml_model.pickle\", \"rb\") as f:\n",
    "    model = pickle.load(f)"
   ]
  },
  {
   "cell_type": "code",
   "execution_count": 3,
   "metadata": {},
   "outputs": [
    {
     "data": {
      "text/plain": [
       "BalancedRandomForestClassifier(bootstrap=True, class_weight=None,\n",
       "                criterion='gini', max_depth=None, max_features='auto',\n",
       "                max_leaf_nodes=None, min_impurity_decrease=0.0,\n",
       "                min_samples_leaf=2, min_samples_split=2,\n",
       "                min_weight_fraction_leaf=0.0, n_estimators=100, n_jobs=1,\n",
       "                oob_score=False, random_state=None, replacement=False,\n",
       "                sampling_strategy='auto', verbose=0, warm_start=False)"
      ]
     },
     "execution_count": 3,
     "metadata": {},
     "output_type": "execute_result"
    }
   ],
   "source": [
    "model"
   ]
  },
  {
   "cell_type": "code",
   "execution_count": 5,
   "metadata": {},
   "outputs": [],
   "source": [
    "def get_and_store_score(folder_names):\n",
    "    for name in folder_names:\n",
    "        fname = 'data/' + name + '/ml_data.csv'\n",
    "        if not os.path.exists(fname):\n",
    "            continue\n",
    "        print(fname)\n",
    "        d = pd.read_csv(fname, header=None)\n",
    "        data = d.iloc[:, 2:]\n",
    "        scores = pd.Series(model.predict_proba(data)[:, 1])\n",
    "        ids = pd.Series(range(len(data)))\n",
    "        posnums = d.iloc[:, 1]\n",
    "#         result = pd.concat([ids, posnums, scores], axis=1)\n",
    "        result = pd.DataFrame(scores)\n",
    "#         print(result)\n",
    "        result.to_csv('data/' + name + '/score.csv', header=None, index=None)"
   ]
  },
  {
   "cell_type": "code",
   "execution_count": 7,
   "metadata": {
    "scrolled": false
   },
   "outputs": [
    {
     "name": "stdout",
     "output_type": "stream",
     "text": [
      "data/paper2/ml_data.csv\n",
      "data/shine1/ml_data.csv\n",
      "data/shine3/ml_data.csv\n",
      "data/paper3/ml_data.csv\n",
      "data/shine4/ml_data.csv\n",
      "data/shine2/ml_data.csv\n",
      "data/paper1/ml_data.csv\n"
     ]
    }
   ],
   "source": [
    "folder_names = os.listdir('data')\n",
    "get_and_store_score(folder_names)"
   ]
  },
  {
   "cell_type": "code",
   "execution_count": null,
   "metadata": {},
   "outputs": [],
   "source": []
  },
  {
   "cell_type": "code",
   "execution_count": null,
   "metadata": {},
   "outputs": [],
   "source": []
  }
 ],
 "metadata": {
  "kernelspec": {
   "display_name": "Python 3",
   "language": "python",
   "name": "python3"
  },
  "language_info": {
   "codemirror_mode": {
    "name": "ipython",
    "version": 3
   },
   "file_extension": ".py",
   "mimetype": "text/x-python",
   "name": "python",
   "nbconvert_exporter": "python",
   "pygments_lexer": "ipython3",
   "version": "3.6.6"
  }
 },
 "nbformat": 4,
 "nbformat_minor": 2
}
