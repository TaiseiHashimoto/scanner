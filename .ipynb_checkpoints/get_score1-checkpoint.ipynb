{
 "cells": [
  {
   "cell_type": "code",
   "execution_count": 1,
   "metadata": {},
   "outputs": [],
   "source": [
    "import pickle\n",
    "import os\n",
    "import pandas as pd\n",
    "import numpy as np"
   ]
  },
  {
   "cell_type": "code",
   "execution_count": 2,
   "metadata": {},
   "outputs": [],
   "source": [
    "with open(\"ml_model.pickle\", \"rb\") as f:\n",
    "    model = pickle.load(f)"
   ]
  },
  {
   "cell_type": "code",
   "execution_count": 3,
   "metadata": {},
   "outputs": [
    {
     "data": {
      "text/plain": [
       "BalancedRandomForestClassifier(bootstrap=True, class_weight=None,\n",
       "                criterion='gini', max_depth=None, max_features='auto',\n",
       "                max_leaf_nodes=None, min_impurity_decrease=0.0,\n",
       "                min_samples_leaf=2, min_samples_split=2,\n",
       "                min_weight_fraction_leaf=0.0, n_estimators=100, n_jobs=1,\n",
       "                oob_score=False, random_state=None, replacement=False,\n",
       "                sampling_strategy='auto', verbose=0, warm_start=False)"
      ]
     },
     "execution_count": 3,
     "metadata": {},
     "output_type": "execute_result"
    }
   ],
   "source": [
    "model"
   ]
  },
  {
   "cell_type": "code",
   "execution_count": 97,
   "metadata": {},
   "outputs": [],
   "source": [
    "def get_and_store_score(folder_names):\n",
    "    for name in folder_names:\n",
    "        fname = 'data/' + name + '/ml_data.csv'\n",
    "        if not os.path.exists(fname):\n",
    "            continue\n",
    "        print(fname)\n",
    "        d = pd.read_csv(fname, header=None)\n",
    "        data = d.iloc[:, 2:]\n",
    "        scores = pd.Series(model.predict_proba(data)[:, 1])\n",
    "        ids = pd.Series(range(len(data)))\n",
    "        posnums = d.iloc[:, 1]\n",
    "#         result = pd.concat([ids, posnums, scores], axis=1)\n",
    "        result = pd.DataFrame(scores)\n",
    "#         print(result)\n",
    "        result.to_csv('data/' + name + '/score.csv', header=None, index=None)"
   ]
  },
  {
   "cell_type": "code",
   "execution_count": 98,
   "metadata": {
    "scrolled": false
   },
   "outputs": [
    {
     "name": "stdout",
     "output_type": "stream",
     "text": [
      "data/paper1/ml_data.csv\n",
      "           0\n",
      "0   0.236667\n",
      "1   0.222500\n",
      "2   0.376833\n",
      "3   0.343500\n",
      "4   0.195357\n",
      "5   0.248833\n",
      "6   0.167500\n",
      "7   0.559333\n",
      "8   0.112167\n",
      "9   0.495500\n",
      "10  0.119667\n",
      "11  1.000000\n",
      "12  0.834167\n",
      "13  1.000000\n",
      "14  0.100833\n",
      "15  0.091667\n",
      "16  0.987000\n",
      "17  0.597917\n",
      "18  0.107583\n",
      "19  0.985000\n",
      "20  0.835381\n",
      "21  0.270000\n",
      "22  0.433524\n",
      "23  0.103333\n",
      "24  0.147381\n",
      "25  0.140917\n",
      "26  0.080667\n",
      "27  0.017167\n",
      "28  0.111750\n",
      "29  0.088333\n",
      "30  0.025333\n",
      "31  0.000000\n",
      "32  0.088750\n",
      "33  0.062333\n",
      "34  0.008000\n",
      "35  0.011667\n",
      "36  0.176667\n",
      "37  0.094167\n",
      "38  0.026500\n"
     ]
    }
   ],
   "source": [
    "get_and_store_score(folder_names)"
   ]
  },
  {
   "cell_type": "code",
   "execution_count": null,
   "metadata": {},
   "outputs": [],
   "source": []
  }
 ],
 "metadata": {
  "kernelspec": {
   "display_name": "Python 3",
   "language": "python",
   "name": "python3"
  },
  "language_info": {
   "codemirror_mode": {
    "name": "ipython",
    "version": 3
   },
   "file_extension": ".py",
   "mimetype": "text/x-python",
   "name": "python",
   "nbconvert_exporter": "python",
   "pygments_lexer": "ipython3",
   "version": "3.6.6"
  }
 },
 "nbformat": 4,
 "nbformat_minor": 2
}
