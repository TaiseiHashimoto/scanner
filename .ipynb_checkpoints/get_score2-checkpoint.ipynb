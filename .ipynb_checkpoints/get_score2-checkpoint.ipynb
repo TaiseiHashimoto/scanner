{
 "cells": [
  {
   "cell_type": "code",
   "execution_count": 1,
   "metadata": {},
   "outputs": [],
   "source": [
    "import pickle\n",
    "import os\n",
    "import pandas as pd\n",
    "import numpy as np"
   ]
  },
  {
   "cell_type": "code",
   "execution_count": 2,
   "metadata": {},
   "outputs": [],
   "source": [
    "with open(\"ml_model2.pickle\", \"rb\") as f:\n",
    "    model = pickle.load(f)"
   ]
  },
  {
   "cell_type": "code",
   "execution_count": 3,
   "metadata": {},
   "outputs": [
    {
     "data": {
      "text/plain": [
       "BalancedRandomForestClassifier(bootstrap=True, class_weight=None,\n",
       "                criterion='gini', max_depth=None, max_features='auto',\n",
       "                max_leaf_nodes=None, min_impurity_decrease=0.0,\n",
       "                min_samples_leaf=2, min_samples_split=2,\n",
       "                min_weight_fraction_leaf=0.0, n_estimators=100, n_jobs=1,\n",
       "                oob_score=False, random_state=None, replacement=False,\n",
       "                sampling_strategy='auto', verbose=0, warm_start=False)"
      ]
     },
     "execution_count": 3,
     "metadata": {},
     "output_type": "execute_result"
    }
   ],
   "source": [
    "model"
   ]
  },
  {
   "cell_type": "code",
   "execution_count": null,
   "metadata": {},
   "outputs": [],
   "source": [
    "def get_and_store_score(folder_names):\n",
    "    for name in folder_names:\n",
    "        fname = 'data/' + name + '/ml_data2.csv'\n",
    "        if not os.path.exists(fname):\n",
    "            continue\n",
    "        print(fname)\n",
    "        d = pd.read_csv(fname, header=None)\n",
    "#         data = d.iloc[:, 4:]\n",
    "        data = np.hstack((np.mean(row[4:8]), row[8:]))\n",
    "        scores = pd.Series(model.predict_proba(data)[:, 1])\n",
    "        ids = pd.Series(range(len(data)))\n",
    "        posnums = d.iloc[:, 1]\n",
    "#         result = pd.concat([ids, posnums, scores], axis=1)\n",
    "        result = pd.DataFrame(scores)\n",
    "#         print(result)\n",
    "        result.to_csv('data/' + name + '/score.csv', header=None, index=None)"
   ]
  },
  {
   "cell_type": "code",
   "execution_count": null,
   "metadata": {},
   "outputs": [],
   "source": [
    "def collect_data(folder_names):\n",
    "    data = []\n",
    "    labels = []\n",
    "    metadata = []  # img_id\n",
    "    for img_id, name in enumerate(folder_names):\n",
    "        if not os.path.exists('data/' + name + '/ml_data2.csv'): continue\n",
    "        d = pd.read_csv('data/' + name + '/ml_data2.csv', names=colnames)\n",
    "        if d.isnull().values.sum() > 0: continue\n",
    "        a = pd.read_csv('data/' + name + '/ans.txt', header=None).values.ravel()\n",
    "        # no answer => \"-1\"\n",
    "        a = np.delete(a, np.where(a == -1))\n",
    "        if len(a) != 4:\n",
    "            print(f\"skipping {name} (answer length != 4)\")\n",
    "            continue\n",
    "        for row in d.values:\n",
    "            # when all labels match\n",
    "            label = 1 if np.all(row[:4] == a) else 0  \n",
    "            labels.append(label)\n",
    "#             data.append(row[4:])\n",
    "            data.append(np.hstack((np.mean(row[4:8]), row[8:])))\n",
    "            metadata.append(img_id)\n",
    "            \n",
    "    return np.array(data), np.array(labels), np.array(metadata)"
   ]
  }
 ],
 "metadata": {
  "kernelspec": {
   "display_name": "Python 3",
   "language": "python",
   "name": "python3"
  },
  "language_info": {
   "codemirror_mode": {
    "name": "ipython",
    "version": 3
   },
   "file_extension": ".py",
   "mimetype": "text/x-python",
   "name": "python",
   "nbconvert_exporter": "python",
   "pygments_lexer": "ipython3",
   "version": "3.6.6"
  }
 },
 "nbformat": 4,
 "nbformat_minor": 2
}
