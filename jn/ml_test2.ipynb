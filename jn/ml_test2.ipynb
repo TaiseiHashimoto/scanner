{
 "cells": [
  {
   "cell_type": "code",
   "execution_count": 39,
   "metadata": {},
   "outputs": [],
   "source": [
    "import os\n",
    "import pandas as pd\n",
    "import numpy as np\n",
    "import matplotlib.pyplot as plt\n",
    "from sklearn.metrics import confusion_matrix"
   ]
  },
  {
   "cell_type": "code",
   "execution_count": 103,
   "metadata": {},
   "outputs": [],
   "source": [
    "colnames = ['lt_id', 'rt_id', 'lb_id', 'rb_id', \\\n",
    "            'lt_score', 'rt_score', 'lb_score', 'rb_score',\\\n",
    "            'dist1', 'dist2', 'dist3', 'dist4',\\\n",
    "            'cross_hor', 'cross_ver',\\\n",
    "            'lt_deg', 'rt_deg', 'lb_deg', 'rb_deg']"
   ]
  },
  {
   "cell_type": "code",
   "execution_count": 104,
   "metadata": {},
   "outputs": [],
   "source": [
    "def collect_data(folder_names):\n",
    "    data = []\n",
    "    labels = []\n",
    "    metadata = []  # img_id\n",
    "    for img_id, name in enumerate(folder_names):\n",
    "        if not os.path.exists('data/' + name + '/ml_data2.csv'): continue\n",
    "        d = pd.read_csv('data/' + name + '/ml_data2.csv', names=colnames)\n",
    "        if d.isnull().values.sum() > 0: continue\n",
    "        a = pd.read_csv('data/' + name + '/ans.txt', header=None).values.ravel()\n",
    "        # no answer => \"-1\"\n",
    "        a = np.delete(a, np.where(a == -1))\n",
    "        if len(a) != 4:\n",
    "            print(f\"skipping {name} (answer length != 4)\")\n",
    "            continue\n",
    "        for row in d.values:\n",
    "            # when all labels match\n",
    "            label = 1 if np.all(row[:4] == a) else 0  \n",
    "            labels.append(label)\n",
    "#             data.append(row[4:])\n",
    "            data.append(np.hstack((np.mean(row[4:8]), row[8:])))\n",
    "            metadata.append(img_id)\n",
    "            \n",
    "    return np.array(data), np.array(labels), np.array(metadata)"
   ]
  },
  {
   "cell_type": "code",
   "execution_count": 105,
   "metadata": {
    "scrolled": true
   },
   "outputs": [
    {
     "name": "stdout",
     "output_type": "stream",
     "text": [
      "skipping note12 (answer length != 4)\n",
      "skipping note14 (answer length != 4)\n",
      "skipping note13 (answer length != 4)\n"
     ]
    }
   ],
   "source": [
    "folder_names = os.listdir('data')\n",
    "data, labels, metadata = collect_data(folder_names)"
   ]
  },
  {
   "cell_type": "code",
   "execution_count": 43,
   "metadata": {},
   "outputs": [
    {
     "name": "stdout",
     "output_type": "stream",
     "text": [
      "23775 36\n"
     ]
    }
   ],
   "source": [
    "print(len(data), sum(labels == 1))"
   ]
  },
  {
   "cell_type": "code",
   "execution_count": 44,
   "metadata": {},
   "outputs": [
    {
     "data": {
      "text/plain": [
       "{'cross_hor': 8,\n",
       " 'cross_ver': 9,\n",
       " 'dist1': 4,\n",
       " 'dist2': 5,\n",
       " 'dist3': 6,\n",
       " 'dist4': 7,\n",
       " 'lb_deg': 12,\n",
       " 'lb_score': 2,\n",
       " 'lt_deg': 10,\n",
       " 'lt_score': 0,\n",
       " 'rb_deg': 13,\n",
       " 'rb_score': 3,\n",
       " 'rt_deg': 11,\n",
       " 'rt_score': 1}"
      ]
     },
     "execution_count": 44,
     "metadata": {},
     "output_type": "execute_result"
    }
   ],
   "source": [
    "feature_dict = {colnames[i+4]: i for i in range(len(colnames)-4)}\n",
    "feature_dict"
   ]
  },
  {
   "cell_type": "code",
   "execution_count": 86,
   "metadata": {},
   "outputs": [
    {
     "data": {
      "image/png": "[encoded data removed]",
      "text/plain": [
       "<Figure size 432x288 with 4 Axes>"
      ]
     },
     "metadata": {},
     "output_type": "display_data"
    }
   ],
   "source": [
    "plt.subplot(2, 2, 1)\n",
    "plt.hist(data[:, feature_dict['lt_score']])\n",
    "plt.subplot(2, 2, 2)\n",
    "plt.hist(data[:, feature_dict['rt_score']])\n",
    "plt.subplot(2, 2, 3)\n",
    "plt.hist(data[:, feature_dict['lb_score']])\n",
    "plt.subplot(2, 2, 4)\n",
    "plt.hist(data[:, feature_dict['rb_score']])\n",
    "plt.show()"
   ]
  },
  {
   "cell_type": "code",
   "execution_count": 46,
   "metadata": {},
   "outputs": [
    {
     "data": {
      "image/png": "[encoded data removed]",
      "text/plain": [
       "<Figure size 432x288 with 4 Axes>"
      ]
     },
     "metadata": {},
     "output_type": "display_data"
    }
   ],
   "source": [
    "plt.subplot(2, 2, 1)\n",
    "plt.hist(data[:, feature_dict['lt_deg']])\n",
    "plt.subplot(2, 2, 2)\n",
    "plt.hist(data[:, feature_dict['rt_deg']])\n",
    "plt.subplot(2, 2, 3)\n",
    "plt.hist(data[:, feature_dict['lb_deg']])\n",
    "plt.subplot(2, 2, 4)\n",
    "plt.hist(data[:, feature_dict['rb_deg']])\n",
    "plt.show()"
   ]
  },
  {
   "cell_type": "code",
   "execution_count": 106,
   "metadata": {},
   "outputs": [],
   "source": [
    "import random\n",
    "img_indice = range(len(folder_names))\n",
    "img_indice_train = random.sample(img_indice, int(len(img_indice) * 0.7))\n",
    "data_train = []\n",
    "data_test = []\n",
    "labels_train = []\n",
    "labels_test = []\n",
    "metadata_train = []\n",
    "metadata_test = []\n",
    "\n",
    "# split data (don't split image)\n",
    "for i in range(len(data)):\n",
    "    if metadata[i] in img_indice_train:\n",
    "        data_train.append(data[i])\n",
    "        labels_train.append(labels[i])\n",
    "        metadata_train.append(metadata[i])\n",
    "    else:\n",
    "        data_test.append(data[i])\n",
    "        labels_test.append(labels[i])\n",
    "        metadata_test.append(metadata[i])\n",
    "data_train = np.array(data_train)\n",
    "data_test = np.array(data_test)\n",
    "labels_train = np.array(labels_train)\n",
    "labels_test = np.array(labels_test)\n",
    "metadata_train = np.array(metadata_train)\n",
    "metadata_test = np.array(metadata_test)"
   ]
  },
  {
   "cell_type": "code",
   "execution_count": 107,
   "metadata": {},
   "outputs": [
    {
     "name": "stdout",
     "output_type": "stream",
     "text": [
      "19400 8500 30 13\n"
     ]
    }
   ],
   "source": [
    "print(len(data_train), len(data_test), sum(labels_train), sum(labels_test))"
   ]
  },
  {
   "cell_type": "code",
   "execution_count": 108,
   "metadata": {},
   "outputs": [],
   "source": [
    "from sklearn.preprocessing import StandardScaler\n",
    "stdsc = StandardScaler()\n",
    "data_train = stdsc.fit_transform(data_train)\n",
    "data_test = stdsc.transform(data_test)"
   ]
  },
  {
   "cell_type": "code",
   "execution_count": 109,
   "metadata": {},
   "outputs": [
    {
     "data": {
      "image/png": "[encoded data removed]",
      "text/plain": [
       "<Figure size 432x288 with 2 Axes>"
      ]
     },
     "metadata": {},
     "output_type": "display_data"
    }
   ],
   "source": [
    "from sklearn.decomposition import PCA\n",
    "pca = PCA()\n",
    "pca.fit(data_train)\n",
    "transformed_train = pca.fit_transform(data_train)\n",
    "transformed_test = pca.transform(data_test)\n",
    "\n",
    "plt.subplot(1, 2, 1)\n",
    "plt.scatter(transformed_train[labels_train==0][:,0], transformed_train[labels_train==0][:,1], c='blue')\n",
    "plt.scatter(transformed_train[labels_train==1][:,0], transformed_train[labels_train==1][:,1], c='red')\n",
    "plt.subplot(1, 2, 2)\n",
    "plt.scatter(transformed_test[labels_test==0][:,0], transformed_test[labels_test==0][:,1], c='blue')\n",
    "plt.scatter(transformed_test[labels_test==1][:,0], transformed_test[labels_test==1][:,1], c='red')\n",
    "plt.show()"
   ]
  },
  {
   "cell_type": "code",
   "execution_count": 57,
   "metadata": {},
   "outputs": [],
   "source": [
    "def rank_accuracy(true_labels, pred_vals, metadata, n_tol=1):\n",
    "    positive_vals = pred_vals\n",
    "    if pred_vals.ndim == 2:  # case of predict_proba\n",
    "        positive_vals = pred_vals[:, 1]\n",
    "    indice = np.argsort(positive_vals)[::-1]  # descending order\n",
    "    err_count = {m: 0 for m in np.unique(metadata)}\n",
    "    corrects = []\n",
    "    errors = []\n",
    "    for idx in indice:\n",
    "        m = metadata[idx]\n",
    "        if m in corrects or m in errors:\n",
    "            continue\n",
    "        if true_labels[idx] == 1:\n",
    "            corrects.append(m)\n",
    "        else:\n",
    "            err_count[m] += 1\n",
    "            if err_count[m] >= n_tol:\n",
    "                errors.append(m)\n",
    "        \n",
    "    return len(corrects) / len(err_count)"
   ]
  },
  {
   "cell_type": "markdown",
   "metadata": {},
   "source": [
    "## Balanced RandomForest Classifier"
   ]
  },
  {
   "cell_type": "code",
   "execution_count": 110,
   "metadata": {},
   "outputs": [
    {
     "data": {
      "text/plain": [
       "BalancedRandomForestClassifier(bootstrap=True, class_weight=None,\n",
       "                criterion='gini', max_depth=None, max_features='auto',\n",
       "                max_leaf_nodes=None, min_impurity_decrease=0.0,\n",
       "                min_samples_leaf=2, min_samples_split=2,\n",
       "                min_weight_fraction_leaf=0.0, n_estimators=100, n_jobs=1,\n",
       "                oob_score=False, random_state=None, replacement=False,\n",
       "                sampling_strategy='auto', verbose=0, warm_start=False)"
      ]
     },
     "execution_count": 110,
     "metadata": {},
     "output_type": "execute_result"
    }
   ],
   "source": [
    "from imblearn.ensemble import BalancedRandomForestClassifier\n",
    "brf = BalancedRandomForestClassifier(n_estimators=100)\n",
    "brf.fit(data_train, labels_train)"
   ]
  },
  {
   "cell_type": "code",
   "execution_count": 111,
   "metadata": {},
   "outputs": [
    {
     "name": "stdout",
     "output_type": "stream",
     "text": [
      "[[16646  2724]\n",
      " [    0    30]]\n",
      "[[7870  617]\n",
      " [   1   12]]\n"
     ]
    }
   ],
   "source": [
    "pred_train = brf.predict(data_train)\n",
    "pred_test = brf.predict(data_test)\n",
    "print(confusion_matrix(labels_train, pred_train))\n",
    "print(confusion_matrix(labels_test, pred_test))"
   ]
  },
  {
   "cell_type": "code",
   "execution_count": 112,
   "metadata": {},
   "outputs": [
    {
     "name": "stdout",
     "output_type": "stream",
     "text": [
      "0.42424242424242425\n",
      "0.14285714285714285\n"
     ]
    }
   ],
   "source": [
    "print(rank_accuracy(labels_train, brf.predict_proba(data_train), metadata_train))\n",
    "print(rank_accuracy(labels_test, brf.predict_proba(data_test), metadata_test))"
   ]
  },
  {
   "cell_type": "code",
   "execution_count": 66,
   "metadata": {},
   "outputs": [
    {
     "data": {
      "image/png": "[encoded data removed]",
      "text/plain": [
       "<Figure size 432x288 with 1 Axes>"
      ]
     },
     "metadata": {},
     "output_type": "display_data"
    }
   ],
   "source": [
    "features = np.array(colnames[4:])\n",
    "importances = brf.feature_importances_\n",
    "indice = np.argsort(importances)\n",
    "plt.barh(range(len(indice)), importances[indice])\n",
    "plt.yticks(range(len(indice)), features[indice])\n",
    "plt.show()"
   ]
  },
  {
   "cell_type": "markdown",
   "metadata": {},
   "source": [
    "# BorderlineSMOTE"
   ]
  },
  {
   "cell_type": "code",
   "execution_count": 91,
   "metadata": {},
   "outputs": [
    {
     "name": "stdout",
     "output_type": "stream",
     "text": [
      "15977 7988\n"
     ]
    }
   ],
   "source": [
    "from sklearn.linear_model import LogisticRegressionCV\n",
    "from imblearn.over_sampling import BorderlineSMOTE\n",
    "data_bsmote, labels_bsmote = BorderlineSMOTE(0.5).fit_resample(data_train, labels_train)\n",
    "print(sum(labels_bsmote == 0), sum(labels_bsmote == 1))"
   ]
  },
  {
   "cell_type": "code",
   "execution_count": 92,
   "metadata": {},
   "outputs": [
    {
     "name": "stderr",
     "output_type": "stream",
     "text": [
      "/home/denjo/.local/lib/python3.6/site-packages/sklearn/linear_model/logistic.py:757: ConvergenceWarning: lbfgs failed to converge. Increase the number of iterations.\n",
      "  \"of iterations.\", ConvergenceWarning)\n",
      "/home/denjo/.local/lib/python3.6/site-packages/sklearn/linear_model/logistic.py:757: ConvergenceWarning: lbfgs failed to converge. Increase the number of iterations.\n",
      "  \"of iterations.\", ConvergenceWarning)\n",
      "/home/denjo/.local/lib/python3.6/site-packages/sklearn/linear_model/logistic.py:757: ConvergenceWarning: lbfgs failed to converge. Increase the number of iterations.\n",
      "  \"of iterations.\", ConvergenceWarning)\n",
      "/home/denjo/.local/lib/python3.6/site-packages/sklearn/linear_model/logistic.py:757: ConvergenceWarning: lbfgs failed to converge. Increase the number of iterations.\n",
      "  \"of iterations.\", ConvergenceWarning)\n",
      "/home/denjo/.local/lib/python3.6/site-packages/sklearn/linear_model/logistic.py:757: ConvergenceWarning: lbfgs failed to converge. Increase the number of iterations.\n",
      "  \"of iterations.\", ConvergenceWarning)\n"
     ]
    },
    {
     "data": {
      "text/plain": [
       "LogisticRegressionCV(Cs=10, class_weight=None, cv=5, dual=False,\n",
       "           fit_intercept=True, intercept_scaling=1.0, max_iter=100,\n",
       "           multi_class='warn', n_jobs=None, penalty='l2',\n",
       "           random_state=None, refit=True, scoring=None, solver='lbfgs',\n",
       "           tol=0.0001, verbose=0)"
      ]
     },
     "execution_count": 92,
     "metadata": {},
     "output_type": "execute_result"
    }
   ],
   "source": [
    "lr = LogisticRegressionCV(cv=5)\n",
    "lr.fit(data_bsmote, labels_bsmote)"
   ]
  },
  {
   "cell_type": "code",
   "execution_count": 93,
   "metadata": {},
   "outputs": [
    {
     "name": "stdout",
     "output_type": "stream",
     "text": [
      "[[15843   134]\n",
      " [   15     8]]\n",
      "[[7566  196]\n",
      " [   9    4]]\n"
     ]
    }
   ],
   "source": [
    "pred_train = lr.predict(data_train)\n",
    "pred_test = lr.predict(data_test)\n",
    "print(confusion_matrix(labels_train, pred_train))\n",
    "print(confusion_matrix(labels_test, pred_test))"
   ]
  },
  {
   "cell_type": "code",
   "execution_count": 94,
   "metadata": {},
   "outputs": [
    {
     "data": {
      "text/plain": [
       "SVC(C=1.0, cache_size=200, class_weight=None, coef0=0.0,\n",
       "  decision_function_shape='ovr', degree=3, gamma='auto', kernel='rbf',\n",
       "  max_iter=-1, probability=False, random_state=None, shrinking=True,\n",
       "  tol=0.001, verbose=False)"
      ]
     },
     "execution_count": 94,
     "metadata": {},
     "output_type": "execute_result"
    }
   ],
   "source": [
    "svm = SVC(gamma='auto')\n",
    "svm.fit(data_train, labels_train)\n",
    "svm.fit(data_test, labels_test)"
   ]
  },
  {
   "cell_type": "code",
   "execution_count": 95,
   "metadata": {},
   "outputs": [
    {
     "name": "stdout",
     "output_type": "stream",
     "text": [
      "[[15977     0]\n",
      " [   23     0]]\n",
      "[[7762    0]\n",
      " [  13    0]]\n"
     ]
    }
   ],
   "source": [
    "pred_train = svm.predict(data_train)\n",
    "pred_test = svm.predict(data_test)\n",
    "print(confusion_matrix(labels_train, pred_train))\n",
    "print(confusion_matrix(labels_test, pred_test))"
   ]
  },
  {
   "cell_type": "code",
   "execution_count": null,
   "metadata": {},
   "outputs": [],
   "source": []
  },
  {
   "cell_type": "markdown",
   "metadata": {},
   "source": [
    "## Save model"
   ]
  },
  {
   "cell_type": "code",
   "execution_count": 113,
   "metadata": {},
   "outputs": [],
   "source": [
    "import pickle\n",
    "\n",
    "clf = brf\n",
    "with open('ml_model2.pickle', 'wb') as f:\n",
    "    pickle.dump(clf, f)"
   ]
  },
  {
   "cell_type": "code",
   "execution_count": 114,
   "metadata": {},
   "outputs": [
    {
     "data": {
      "text/plain": [
       "BalancedRandomForestClassifier(bootstrap=True, class_weight=None,\n",
       "                criterion='gini', max_depth=None, max_features='auto',\n",
       "                max_leaf_nodes=None, min_impurity_decrease=0.0,\n",
       "                min_samples_leaf=2, min_samples_split=2,\n",
       "                min_weight_fraction_leaf=0.0, n_estimators=100, n_jobs=1,\n",
       "                oob_score=False, random_state=None, replacement=False,\n",
       "                sampling_strategy='auto', verbose=0, warm_start=False)"
      ]
     },
     "execution_count": 114,
     "metadata": {},
     "output_type": "execute_result"
    }
   ],
   "source": [
    "clf"
   ]
  },
  {
   "cell_type": "code",
   "execution_count": null,
   "metadata": {},
   "outputs": [],
   "source": []
  }
 ],
 "metadata": {
  "kernelspec": {
   "display_name": "Python 3",
   "language": "python",
   "name": "python3"
  },
  "language_info": {
   "codemirror_mode": {
    "name": "ipython",
    "version": 3
   },
   "file_extension": ".py",
   "mimetype": "text/x-python",
   "name": "python",
   "nbconvert_exporter": "python",
   "pygments_lexer": "ipython3",
   "version": "3.6.6"
  }
 },
 "nbformat": 4,
 "nbformat_minor": 2
}
